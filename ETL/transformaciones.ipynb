{
 "cells": [
  {
   "cell_type": "markdown",
   "metadata": {},
   "source": [
    "## Notbook con las transformaciones realizadas los DataSets originales."
   ]
  },
  {
   "cell_type": "code",
   "execution_count": 1,
   "metadata": {},
   "outputs": [],
   "source": [
    "import pandas as pd\n",
    "import numpy as np"
   ]
  },
  {
   "cell_type": "markdown",
   "metadata": {},
   "source": [
    "Primero cargaremos el dataset de **movies_dataset.csv** para realizar sus respectivas transformaciones."
   ]
  },
  {
   "cell_type": "code",
   "execution_count": 2,
   "metadata": {},
   "outputs": [
    {
     "name": "stdout",
     "output_type": "stream",
     "text": [
      "<class 'pandas.core.frame.DataFrame'>\n",
      "RangeIndex: 45466 entries, 0 to 45465\n",
      "Data columns (total 24 columns):\n",
      " #   Column                 Non-Null Count  Dtype  \n",
      "---  ------                 --------------  -----  \n",
      " 0   adult                  45466 non-null  object \n",
      " 1   belongs_to_collection  4494 non-null   object \n",
      " 2   budget                 45466 non-null  object \n",
      " 3   genres                 45466 non-null  object \n",
      " 4   homepage               7782 non-null   object \n",
      " 5   id                     45466 non-null  object \n",
      " 6   imdb_id                45449 non-null  object \n",
      " 7   original_language      45455 non-null  object \n",
      " 8   original_title         45466 non-null  object \n",
      " 9   overview               44512 non-null  object \n",
      " 10  popularity             45461 non-null  object \n",
      " 11  poster_path            45080 non-null  object \n",
      " 12  production_companies   45463 non-null  object \n",
      " 13  production_countries   45463 non-null  object \n",
      " 14  release_date           45379 non-null  object \n",
      " 15  revenue                45460 non-null  float64\n",
      " 16  runtime                45203 non-null  float64\n",
      " 17  spoken_languages       45460 non-null  object \n",
      " 18  status                 45379 non-null  object \n",
      " 19  tagline                20412 non-null  object \n",
      " 20  title                  45460 non-null  object \n",
      " 21  video                  45460 non-null  object \n",
      " 22  vote_average           45460 non-null  float64\n",
      " 23  vote_count             45460 non-null  float64\n",
      "dtypes: float64(4), object(20)\n",
      "memory usage: 8.3+ MB\n"
     ]
    },
    {
     "name": "stderr",
     "output_type": "stream",
     "text": [
      "/tmp/ipykernel_22274/2781359134.py:1: DtypeWarning: Columns (10) have mixed types. Specify dtype option on import or set low_memory=False.\n",
      "  movies = pd.read_csv('../assets/original/movies_dataset.csv', delimiter=',', encoding='utf-8')\n"
     ]
    }
   ],
   "source": [
    "movies = pd.read_csv('../assets/original/movies_dataset.csv', delimiter=',', encoding='utf-8')\n",
    "movies.info()"
   ]
  },
  {
   "cell_type": "markdown",
   "metadata": {},
   "source": [
    "Como primer paso de la transformacion eliminamos las columnas que no se van a requerir: **video, imdb_id, adult, original_title, poster_path y homepage**."
   ]
  },
  {
   "cell_type": "code",
   "execution_count": 3,
   "metadata": {},
   "outputs": [
    {
     "name": "stdout",
     "output_type": "stream",
     "text": [
      "<class 'pandas.core.frame.DataFrame'>\n",
      "RangeIndex: 45466 entries, 0 to 45465\n",
      "Data columns (total 18 columns):\n",
      " #   Column                 Non-Null Count  Dtype  \n",
      "---  ------                 --------------  -----  \n",
      " 0   belongs_to_collection  4494 non-null   object \n",
      " 1   budget                 45466 non-null  object \n",
      " 2   genres                 45466 non-null  object \n",
      " 3   id                     45466 non-null  object \n",
      " 4   original_language      45455 non-null  object \n",
      " 5   overview               44512 non-null  object \n",
      " 6   popularity             45461 non-null  object \n",
      " 7   production_companies   45463 non-null  object \n",
      " 8   production_countries   45463 non-null  object \n",
      " 9   release_date           45379 non-null  object \n",
      " 10  revenue                45460 non-null  float64\n",
      " 11  runtime                45203 non-null  float64\n",
      " 12  spoken_languages       45460 non-null  object \n",
      " 13  status                 45379 non-null  object \n",
      " 14  tagline                20412 non-null  object \n",
      " 15  title                  45460 non-null  object \n",
      " 16  vote_average           45460 non-null  float64\n",
      " 17  vote_count             45460 non-null  float64\n",
      "dtypes: float64(4), object(14)\n",
      "memory usage: 6.2+ MB\n"
     ]
    }
   ],
   "source": [
    "movies.drop(columns=['video', 'imdb_id', 'adult', 'original_title', 'poster_path', 'homepage'], inplace=True)\n",
    "movies.info()"
   ]
  },
  {
   "cell_type": "markdown",
   "metadata": {},
   "source": [
    "Continuamos con la correccion del formato de fecha. **DD/MM/AAA -> AAAA-MM-DD**"
   ]
  },
  {
   "cell_type": "code",
   "execution_count": 4,
   "metadata": {},
   "outputs": [
    {
     "data": {
      "text/plain": [
       "0        1995-10-30\n",
       "1        1995-12-15\n",
       "2        1995-12-22\n",
       "3        1995-12-22\n",
       "4        1995-02-10\n",
       "            ...    \n",
       "45461           NaN\n",
       "45462    2011-11-17\n",
       "45463    2003-08-01\n",
       "45464    1917-10-21\n",
       "45465    2017-06-09\n",
       "Name: release_date, Length: 45466, dtype: object"
      ]
     },
     "execution_count": 4,
     "metadata": {},
     "output_type": "execute_result"
    }
   ],
   "source": [
    "movies['release_date']"
   ]
  },
  {
   "cell_type": "code",
   "execution_count": 5,
   "metadata": {},
   "outputs": [
    {
     "data": {
      "text/plain": [
       "0        1995-10-30\n",
       "1        1995-12-15\n",
       "2        1995-12-22\n",
       "3        1995-12-22\n",
       "4        1995-02-10\n",
       "            ...    \n",
       "45461           NaN\n",
       "45462    2011-11-17\n",
       "45463    2003-08-01\n",
       "45464    1917-10-21\n",
       "45465    2017-06-09\n",
       "Name: release_date, Length: 45466, dtype: object"
      ]
     },
     "execution_count": 5,
     "metadata": {},
     "output_type": "execute_result"
    }
   ],
   "source": [
    "movies['release_date'] = pd.to_datetime(movies['release_date'], errors='coerce')\n",
    "movies['release_date'] = movies['release_date'].dt.strftime('%Y-%m-%d')\n",
    "movies['release_date']"
   ]
  },
  {
   "cell_type": "markdown",
   "metadata": {},
   "source": [
    "En el siguiente paso eliminamos las filas que contengan valores nulos en el campo **release_date**"
   ]
  },
  {
   "cell_type": "code",
   "execution_count": 6,
   "metadata": {},
   "outputs": [
    {
     "data": {
      "text/plain": [
       "belongs_to_collection    40972\n",
       "budget                       0\n",
       "genres                       0\n",
       "id                           0\n",
       "original_language           11\n",
       "overview                   954\n",
       "popularity                   5\n",
       "production_companies         3\n",
       "production_countries         3\n",
       "release_date                90\n",
       "revenue                      6\n",
       "runtime                    263\n",
       "spoken_languages             6\n",
       "status                      87\n",
       "tagline                  25054\n",
       "title                        6\n",
       "vote_average                 6\n",
       "vote_count                   6\n",
       "dtype: int64"
      ]
     },
     "execution_count": 6,
     "metadata": {},
     "output_type": "execute_result"
    }
   ],
   "source": [
    "movies.isnull().sum()"
   ]
  },
  {
   "cell_type": "code",
   "execution_count": 7,
   "metadata": {},
   "outputs": [
    {
     "data": {
      "text/plain": [
       "belongs_to_collection    40888\n",
       "budget                       0\n",
       "genres                       0\n",
       "id                           0\n",
       "original_language           11\n",
       "overview                   941\n",
       "popularity                   0\n",
       "production_companies         0\n",
       "production_countries         0\n",
       "release_date                 0\n",
       "revenue                      0\n",
       "runtime                    246\n",
       "spoken_languages             0\n",
       "status                      80\n",
       "tagline                  24978\n",
       "title                        0\n",
       "vote_average                 0\n",
       "vote_count                   0\n",
       "dtype: int64"
      ]
     },
     "execution_count": 7,
     "metadata": {},
     "output_type": "execute_result"
    }
   ],
   "source": [
    "movies.dropna(subset=['release_date'], inplace=True)\n",
    "movies.isnull().sum()"
   ]
  },
  {
   "cell_type": "markdown",
   "metadata": {},
   "source": [
    "Creamos la columna **release_year** donde extraerán el año de la fecha de estreno."
   ]
  },
  {
   "cell_type": "code",
   "execution_count": 8,
   "metadata": {},
   "outputs": [
    {
     "data": {
      "text/plain": [
       "0        1995\n",
       "1        1995\n",
       "2        1995\n",
       "3        1995\n",
       "4        1995\n",
       "         ... \n",
       "45460    1991\n",
       "45462    2011\n",
       "45463    2003\n",
       "45464    1917\n",
       "45465    2017\n",
       "Name: release_year, Length: 45376, dtype: object"
      ]
     },
     "execution_count": 8,
     "metadata": {},
     "output_type": "execute_result"
    }
   ],
   "source": [
    "release_year = pd.to_datetime(movies['release_date'])\n",
    "movies['release_year'] = release_year.dt.strftime('%Y')\n",
    "movies['release_year']"
   ]
  },
  {
   "cell_type": "markdown",
   "metadata": {},
   "source": [
    "Como siguiente paso llenaremos los valores nulos de **revenue & budget** con 0"
   ]
  },
  {
   "cell_type": "code",
   "execution_count": 9,
   "metadata": {},
   "outputs": [
    {
     "name": "stderr",
     "output_type": "stream",
     "text": [
      "/tmp/ipykernel_22274/1790447788.py:1: FutureWarning: A value is trying to be set on a copy of a DataFrame or Series through chained assignment using an inplace method.\n",
      "The behavior will change in pandas 3.0. This inplace method will never work because the intermediate object on which we are setting values always behaves as a copy.\n",
      "\n",
      "For example, when doing 'df[col].method(value, inplace=True)', try using 'df.method({col: value}, inplace=True)' or df[col] = df[col].method(value) instead, to perform the operation inplace on the original object.\n",
      "\n",
      "\n",
      "  movies['revenue'].fillna(value=0, inplace=True)\n",
      "/tmp/ipykernel_22274/1790447788.py:2: FutureWarning: A value is trying to be set on a copy of a DataFrame or Series through chained assignment using an inplace method.\n",
      "The behavior will change in pandas 3.0. This inplace method will never work because the intermediate object on which we are setting values always behaves as a copy.\n",
      "\n",
      "For example, when doing 'df[col].method(value, inplace=True)', try using 'df.method({col: value}, inplace=True)' or df[col] = df[col].method(value) instead, to perform the operation inplace on the original object.\n",
      "\n",
      "\n",
      "  movies['budget'].fillna(value=0, inplace=True)\n"
     ]
    },
    {
     "data": {
      "text/plain": [
       "belongs_to_collection    40888\n",
       "budget                       0\n",
       "genres                       0\n",
       "id                           0\n",
       "original_language           11\n",
       "overview                   941\n",
       "popularity                   0\n",
       "production_companies         0\n",
       "production_countries         0\n",
       "release_date                 0\n",
       "revenue                      0\n",
       "runtime                    246\n",
       "spoken_languages             0\n",
       "status                      80\n",
       "tagline                  24978\n",
       "title                        0\n",
       "vote_average                 0\n",
       "vote_count                   0\n",
       "release_year                 0\n",
       "dtype: int64"
      ]
     },
     "execution_count": 9,
     "metadata": {},
     "output_type": "execute_result"
    }
   ],
   "source": [
    "movies['revenue'].fillna(value=0, inplace=True)\n",
    "movies['budget'].fillna(value=0, inplace=True)\n",
    "movies.isnull().sum()"
   ]
  },
  {
   "cell_type": "markdown",
   "metadata": {},
   "source": [
    "Creamos la columna calculada **return** para saber el retorno de inversion que se tuvo en cada pelicula, en base a el **revenue y budget**. Cuando no se cuenta con un valor para calcularlo se tomara 0 como default."
   ]
  },
  {
   "cell_type": "code",
   "execution_count": 10,
   "metadata": {},
   "outputs": [
    {
     "data": {
      "text/plain": [
       "0        12.451801\n",
       "1         4.043035\n",
       "2         0.000000\n",
       "3         5.090760\n",
       "4         0.000000\n",
       "           ...    \n",
       "45460     0.000000\n",
       "45462     0.000000\n",
       "45463     0.000000\n",
       "45464     0.000000\n",
       "45465     0.000000\n",
       "Name: return, Length: 45376, dtype: float64"
      ]
     },
     "execution_count": 10,
     "metadata": {},
     "output_type": "execute_result"
    }
   ],
   "source": [
    "movies['budget'] = movies['budget'].astype(float)\n",
    "movie_return = {'return': []}\n",
    "\n",
    "for (budget, revenue) in zip(movies['budget'], movies['revenue']):\n",
    "    if budget != 0 and revenue != 0:\n",
    "        movie_return['return'].append(revenue / budget)\n",
    "    else:\n",
    "       movie_return['return'].append(0)\n",
    "\n",
    "movies['return'] = movie_return['return']\n",
    "\n",
    "movies['return']"
   ]
  },
  {
   "cell_type": "markdown",
   "metadata": {},
   "source": [
    "Ya realizadas las transformaciones del dataset **movies_dataset.csv**, se unira con **credits.csv**."
   ]
  },
  {
   "cell_type": "code",
   "execution_count": 11,
   "metadata": {},
   "outputs": [
    {
     "name": "stdout",
     "output_type": "stream",
     "text": [
      "<class 'pandas.core.frame.DataFrame'>\n",
      "RangeIndex: 45476 entries, 0 to 45475\n",
      "Data columns (total 3 columns):\n",
      " #   Column  Non-Null Count  Dtype \n",
      "---  ------  --------------  ----- \n",
      " 0   cast    45476 non-null  object\n",
      " 1   crew    45476 non-null  object\n",
      " 2   id      45476 non-null  int64 \n",
      "dtypes: int64(1), object(2)\n",
      "memory usage: 1.0+ MB\n"
     ]
    }
   ],
   "source": [
    "credits = pd.read_csv('../assets/original/credits.csv', delimiter=',', encoding='utf-8')\n",
    "credits.info()"
   ]
  },
  {
   "cell_type": "code",
   "execution_count": 12,
   "metadata": {},
   "outputs": [
    {
     "name": "stdout",
     "output_type": "stream",
     "text": [
      "<class 'pandas.core.frame.DataFrame'>\n",
      "RangeIndex: 45451 entries, 0 to 45450\n",
      "Data columns (total 22 columns):\n",
      " #   Column                 Non-Null Count  Dtype  \n",
      "---  ------                 --------------  -----  \n",
      " 0   belongs_to_collection  4497 non-null   object \n",
      " 1   budget                 45451 non-null  float64\n",
      " 2   genres                 45451 non-null  object \n",
      " 3   id                     45451 non-null  int64  \n",
      " 4   original_language      45440 non-null  object \n",
      " 5   overview               44510 non-null  object \n",
      " 6   popularity             45451 non-null  object \n",
      " 7   production_companies   45451 non-null  object \n",
      " 8   production_countries   45451 non-null  object \n",
      " 9   release_date           45451 non-null  object \n",
      " 10  revenue                45451 non-null  float64\n",
      " 11  runtime                45205 non-null  float64\n",
      " 12  spoken_languages       45451 non-null  object \n",
      " 13  status                 45371 non-null  object \n",
      " 14  tagline                20425 non-null  object \n",
      " 15  title                  45451 non-null  object \n",
      " 16  vote_average           45451 non-null  float64\n",
      " 17  vote_count             45451 non-null  float64\n",
      " 18  release_year           45451 non-null  object \n",
      " 19  return                 45451 non-null  float64\n",
      " 20  cast                   45451 non-null  object \n",
      " 21  crew                   45451 non-null  object \n",
      "dtypes: float64(6), int64(1), object(15)\n",
      "memory usage: 7.6+ MB\n"
     ]
    }
   ],
   "source": [
    "movies['id'] = movies['id'].astype(int)\n",
    "movies_credits = pd.merge(movies, credits, on='id')\n",
    "movies_credits.info()"
   ]
  },
  {
   "cell_type": "markdown",
   "metadata": {},
   "source": [
    "Para poder trabajar con el dataset desde github, se eliminan todas las filas que contengan valores nulos."
   ]
  },
  {
   "cell_type": "code",
   "execution_count": 13,
   "metadata": {},
   "outputs": [
    {
     "name": "stdout",
     "output_type": "stream",
     "text": [
      "<class 'pandas.core.frame.DataFrame'>\n",
      "Index: 2574 entries, 2 to 45345\n",
      "Data columns (total 22 columns):\n",
      " #   Column                 Non-Null Count  Dtype  \n",
      "---  ------                 --------------  -----  \n",
      " 0   belongs_to_collection  2574 non-null   object \n",
      " 1   budget                 2574 non-null   float64\n",
      " 2   genres                 2574 non-null   object \n",
      " 3   id                     2574 non-null   int64  \n",
      " 4   original_language      2574 non-null   object \n",
      " 5   overview               2574 non-null   object \n",
      " 6   popularity             2574 non-null   object \n",
      " 7   production_companies   2574 non-null   object \n",
      " 8   production_countries   2574 non-null   object \n",
      " 9   release_date           2574 non-null   object \n",
      " 10  revenue                2574 non-null   float64\n",
      " 11  runtime                2574 non-null   float64\n",
      " 12  spoken_languages       2574 non-null   object \n",
      " 13  status                 2574 non-null   object \n",
      " 14  tagline                2574 non-null   object \n",
      " 15  title                  2574 non-null   object \n",
      " 16  vote_average           2574 non-null   float64\n",
      " 17  vote_count             2574 non-null   float64\n",
      " 18  release_year           2574 non-null   object \n",
      " 19  return                 2574 non-null   float64\n",
      " 20  cast                   2574 non-null   object \n",
      " 21  crew                   2574 non-null   object \n",
      "dtypes: float64(6), int64(1), object(15)\n",
      "memory usage: 462.5+ KB\n"
     ]
    }
   ],
   "source": [
    "movies_credits.dropna(subset=['belongs_to_collection', 'overview', 'runtime', 'status', 'tagline'], inplace=True)\n",
    "movies_credits.info()"
   ]
  },
  {
   "cell_type": "markdown",
   "metadata": {},
   "source": [
    "Se crea el dataset con el que trabajara la API."
   ]
  },
  {
   "cell_type": "code",
   "execution_count": 15,
   "metadata": {},
   "outputs": [],
   "source": [
    "movies_credits.to_csv('../assets/movies.csv', header=True, index=False)"
   ]
  }
 ],
 "metadata": {
  "kernelspec": {
   "display_name": "venv",
   "language": "python",
   "name": "python3"
  },
  "language_info": {
   "codemirror_mode": {
    "name": "ipython",
    "version": 3
   },
   "file_extension": ".py",
   "mimetype": "text/x-python",
   "name": "python",
   "nbconvert_exporter": "python",
   "pygments_lexer": "ipython3",
   "version": "3.9.12"
  }
 },
 "nbformat": 4,
 "nbformat_minor": 2
}
